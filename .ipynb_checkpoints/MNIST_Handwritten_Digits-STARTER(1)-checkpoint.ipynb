{
 "cells": [
  {
   "cell_type": "markdown",
   "metadata": {},
   "source": [
    "# Introduction\n",
    "\n",
    "In this project, you will build a neural network of your own design to evaluate the MNIST dataset.\n",
    "\n",
    "Some of the benchmark results on MNIST include can be found [on Yann LeCun's page](http://yann.lecun.com/exdb/mnist/) and include:\n",
    "\n",
    "88% [Lecun et al., 1998](http://yann.lecun.com/exdb/publis/pdf/lecun-98.pdf)\n",
    "95.3% [Lecun et al., 1998](http://yann.lecun.com/exdb/publis/pdf/lecun-98.pdf)\n",
    "99.65% [Ciresan et al., 2011](http://people.idsia.ch/~juergen/ijcai2011.pdf)\n",
    "\n",
    "MNIST is a great dataset for sanity checking your models, since the accuracy levels achieved by large convolutional neural networks and small linear models are both quite high. This makes it important to be familiar with the data.\n",
    "\n",
    "## Installation"
   ]
  },
  {
   "cell_type": "code",
   "execution_count": 2,
   "metadata": {},
   "outputs": [],
   "source": [
    "# Update the PATH to include the user installation directory. \n",
    "import os\n",
    "os.environ['PATH'] = f\"{os.environ['PATH']}:/root/.local/bin\"\n",
    "    \n",
    "# Restart the Kernel before you move on to the next step."
   ]
  },
  {
   "cell_type": "markdown",
   "metadata": {},
   "source": [
    "#### Restart the Kernel before you move on to the next step."
   ]
  },
  {
   "cell_type": "code",
   "execution_count": 3,
   "metadata": {},
   "outputs": [
    {
     "name": "stdout",
     "output_type": "stream",
     "text": [
      "Defaulting to user installation because normal site-packages is not writeable\n",
      "Requirement already satisfied: opencv-python-headless==4.5.3.56 in /root/.local/lib/python3.7/site-packages (from -r requirements.txt (line 1)) (4.5.3.56)\n",
      "Requirement already satisfied: matplotlib==3.4.3 in /opt/conda/lib/python3.7/site-packages (from -r requirements.txt (line 2)) (3.4.3)\n",
      "Requirement already satisfied: numpy==1.21.2 in /opt/conda/lib/python3.7/site-packages (from -r requirements.txt (line 3)) (1.21.2)\n",
      "Requirement already satisfied: pillow==7.0.0 in /opt/conda/lib/python3.7/site-packages (from -r requirements.txt (line 4)) (7.0.0)\n",
      "Requirement already satisfied: bokeh==2.1.1 in /root/.local/lib/python3.7/site-packages (from -r requirements.txt (line 5)) (2.1.1)\n",
      "Requirement already satisfied: torch==1.11.0 in /opt/conda/lib/python3.7/site-packages (from -r requirements.txt (line 6)) (1.11.0)\n",
      "Requirement already satisfied: torchvision==0.12.0 in /root/.local/lib/python3.7/site-packages (from -r requirements.txt (line 7)) (0.12.0)\n",
      "Requirement already satisfied: tqdm==4.63.0 in /root/.local/lib/python3.7/site-packages (from -r requirements.txt (line 8)) (4.63.0)\n",
      "Requirement already satisfied: ipywidgets==7.7.0 in /root/.local/lib/python3.7/site-packages (from -r requirements.txt (line 9)) (7.7.0)\n",
      "Requirement already satisfied: livelossplot==0.5.4 in /root/.local/lib/python3.7/site-packages (from -r requirements.txt (line 10)) (0.5.4)\n",
      "Requirement already satisfied: pytest==7.1.1 in /root/.local/lib/python3.7/site-packages (from -r requirements.txt (line 11)) (7.1.1)\n",
      "Requirement already satisfied: pandas==1.3.5 in /root/.local/lib/python3.7/site-packages (from -r requirements.txt (line 12)) (1.3.5)\n",
      "Requirement already satisfied: seaborn==0.11.2 in /root/.local/lib/python3.7/site-packages (from -r requirements.txt (line 13)) (0.11.2)\n",
      "Requirement already satisfied: jupyter==1.0.0 in /root/.local/lib/python3.7/site-packages (from -r requirements.txt (line 14)) (1.0.0)\n",
      "Requirement already satisfied: ipykernel==4.10.0 in /root/.local/lib/python3.7/site-packages (from -r requirements.txt (line 15)) (4.10.0)\n",
      "Requirement already satisfied: cycler>=0.10 in /opt/conda/lib/python3.7/site-packages (from matplotlib==3.4.3->-r requirements.txt (line 2)) (0.10.0)\n",
      "Requirement already satisfied: kiwisolver>=1.0.1 in /opt/conda/lib/python3.7/site-packages (from matplotlib==3.4.3->-r requirements.txt (line 2)) (1.1.0)\n",
      "Requirement already satisfied: python-dateutil>=2.7 in /opt/conda/lib/python3.7/site-packages (from matplotlib==3.4.3->-r requirements.txt (line 2)) (2.8.1)\n",
      "Requirement already satisfied: pyparsing>=2.2.1 in /opt/conda/lib/python3.7/site-packages (from matplotlib==3.4.3->-r requirements.txt (line 2)) (2.4.6)\n",
      "Requirement already satisfied: packaging>=16.8 in /opt/conda/lib/python3.7/site-packages (from bokeh==2.1.1->-r requirements.txt (line 5)) (20.1)\n",
      "Requirement already satisfied: Jinja2>=2.7 in /opt/conda/lib/python3.7/site-packages (from bokeh==2.1.1->-r requirements.txt (line 5)) (2.11.1)\n",
      "Requirement already satisfied: PyYAML>=3.10 in /opt/conda/lib/python3.7/site-packages (from bokeh==2.1.1->-r requirements.txt (line 5)) (5.3)\n",
      "Requirement already satisfied: tornado>=5.1 in /opt/conda/lib/python3.7/site-packages (from bokeh==2.1.1->-r requirements.txt (line 5)) (5.1.1)\n",
      "Requirement already satisfied: typing-extensions>=3.7.4 in /opt/conda/lib/python3.7/site-packages (from bokeh==2.1.1->-r requirements.txt (line 5)) (3.7.4.1)\n",
      "Requirement already satisfied: requests in /opt/conda/lib/python3.7/site-packages (from torchvision==0.12.0->-r requirements.txt (line 7)) (2.23.0)\n",
      "Requirement already satisfied: ipython-genutils~=0.2.0 in /opt/conda/lib/python3.7/site-packages (from ipywidgets==7.7.0->-r requirements.txt (line 9)) (0.2.0)\n",
      "Requirement already satisfied: widgetsnbextension~=3.6.0 in /root/.local/lib/python3.7/site-packages (from ipywidgets==7.7.0->-r requirements.txt (line 9)) (3.6.6)\n",
      "Requirement already satisfied: nbformat>=4.2.0 in /opt/conda/lib/python3.7/site-packages (from ipywidgets==7.7.0->-r requirements.txt (line 9)) (5.0.4)\n",
      "Requirement already satisfied: ipython>=4.0.0; python_version >= \"3.3\" in /opt/conda/lib/python3.7/site-packages (from ipywidgets==7.7.0->-r requirements.txt (line 9)) (7.13.0)\n",
      "Requirement already satisfied: jupyterlab-widgets>=1.0.0; python_version >= \"3.6\" in /root/.local/lib/python3.7/site-packages (from ipywidgets==7.7.0->-r requirements.txt (line 9)) (3.0.9)\n",
      "Requirement already satisfied: traitlets>=4.3.1 in /opt/conda/lib/python3.7/site-packages (from ipywidgets==7.7.0->-r requirements.txt (line 9)) (4.3.3)\n",
      "Requirement already satisfied: iniconfig in /root/.local/lib/python3.7/site-packages (from pytest==7.1.1->-r requirements.txt (line 11)) (2.0.0)\n",
      "Requirement already satisfied: py>=1.8.2 in /root/.local/lib/python3.7/site-packages (from pytest==7.1.1->-r requirements.txt (line 11)) (1.11.0)\n",
      "Requirement already satisfied: tomli>=1.0.0 in /root/.local/lib/python3.7/site-packages (from pytest==7.1.1->-r requirements.txt (line 11)) (2.0.1)\n",
      "Requirement already satisfied: pluggy<2.0,>=0.12 in /root/.local/lib/python3.7/site-packages (from pytest==7.1.1->-r requirements.txt (line 11)) (1.2.0)\n",
      "Requirement already satisfied: importlib-metadata>=0.12; python_version < \"3.8\" in /opt/conda/lib/python3.7/site-packages (from pytest==7.1.1->-r requirements.txt (line 11)) (1.5.0)\n",
      "Requirement already satisfied: attrs>=19.2.0 in /opt/conda/lib/python3.7/site-packages (from pytest==7.1.1->-r requirements.txt (line 11)) (19.3.0)\n",
      "Requirement already satisfied: pytz>=2017.3 in /opt/conda/lib/python3.7/site-packages (from pandas==1.3.5->-r requirements.txt (line 12)) (2019.3)\n",
      "Requirement already satisfied: scipy>=1.0 in /opt/conda/lib/python3.7/site-packages (from seaborn==0.11.2->-r requirements.txt (line 13)) (1.7.1)\n",
      "Requirement already satisfied: notebook in /opt/conda/lib/python3.7/site-packages (from jupyter==1.0.0->-r requirements.txt (line 14)) (5.7.4)\n",
      "Requirement already satisfied: nbconvert in /opt/conda/lib/python3.7/site-packages (from jupyter==1.0.0->-r requirements.txt (line 14)) (5.6.1)\n",
      "Requirement already satisfied: jupyter-console in /root/.local/lib/python3.7/site-packages (from jupyter==1.0.0->-r requirements.txt (line 14)) (6.6.3)\n",
      "Requirement already satisfied: qtconsole in /root/.local/lib/python3.7/site-packages (from jupyter==1.0.0->-r requirements.txt (line 14)) (5.4.4)\n",
      "Requirement already satisfied: jupyter-client in /opt/conda/lib/python3.7/site-packages (from ipykernel==4.10.0->-r requirements.txt (line 15)) (6.0.0)\n",
      "Requirement already satisfied: six in /opt/conda/lib/python3.7/site-packages (from cycler>=0.10->matplotlib==3.4.3->-r requirements.txt (line 2)) (1.16.0)\n",
      "Requirement already satisfied: setuptools in /opt/conda/lib/python3.7/site-packages (from kiwisolver>=1.0.1->matplotlib==3.4.3->-r requirements.txt (line 2)) (45.2.0.post20200209)\n",
      "Requirement already satisfied: MarkupSafe>=0.23 in /opt/conda/lib/python3.7/site-packages (from Jinja2>=2.7->bokeh==2.1.1->-r requirements.txt (line 5)) (1.1.1)\n",
      "Requirement already satisfied: idna<3,>=2.5 in /opt/conda/lib/python3.7/site-packages (from requests->torchvision==0.12.0->-r requirements.txt (line 7)) (2.9)\n",
      "Requirement already satisfied: chardet<4,>=3.0.2 in /opt/conda/lib/python3.7/site-packages (from requests->torchvision==0.12.0->-r requirements.txt (line 7)) (3.0.4)\n",
      "Requirement already satisfied: certifi>=2017.4.17 in /opt/conda/lib/python3.7/site-packages (from requests->torchvision==0.12.0->-r requirements.txt (line 7)) (2019.11.28)\n",
      "Requirement already satisfied: urllib3!=1.25.0,!=1.25.1,<1.26,>=1.21.1 in /opt/conda/lib/python3.7/site-packages (from requests->torchvision==0.12.0->-r requirements.txt (line 7)) (1.25.7)\n",
      "Requirement already satisfied: jupyter-core in /opt/conda/lib/python3.7/site-packages (from nbformat>=4.2.0->ipywidgets==7.7.0->-r requirements.txt (line 9)) (4.6.3)\n",
      "Requirement already satisfied: jsonschema!=2.5.0,>=2.4 in /opt/conda/lib/python3.7/site-packages (from nbformat>=4.2.0->ipywidgets==7.7.0->-r requirements.txt (line 9)) (3.2.0)\n",
      "Requirement already satisfied: pexpect; sys_platform != \"win32\" in /opt/conda/lib/python3.7/site-packages (from ipython>=4.0.0; python_version >= \"3.3\"->ipywidgets==7.7.0->-r requirements.txt (line 9)) (4.8.0)\n",
      "Requirement already satisfied: pygments in /opt/conda/lib/python3.7/site-packages (from ipython>=4.0.0; python_version >= \"3.3\"->ipywidgets==7.7.0->-r requirements.txt (line 9)) (2.5.2)\n",
      "Requirement already satisfied: backcall in /opt/conda/lib/python3.7/site-packages (from ipython>=4.0.0; python_version >= \"3.3\"->ipywidgets==7.7.0->-r requirements.txt (line 9)) (0.1.0)\n",
      "Requirement already satisfied: jedi>=0.10 in /opt/conda/lib/python3.7/site-packages (from ipython>=4.0.0; python_version >= \"3.3\"->ipywidgets==7.7.0->-r requirements.txt (line 9)) (0.16.0)\n",
      "Requirement already satisfied: decorator in /opt/conda/lib/python3.7/site-packages (from ipython>=4.0.0; python_version >= \"3.3\"->ipywidgets==7.7.0->-r requirements.txt (line 9)) (4.4.2)\n",
      "Requirement already satisfied: prompt-toolkit!=3.0.0,!=3.0.1,<3.1.0,>=2.0.0 in /opt/conda/lib/python3.7/site-packages (from ipython>=4.0.0; python_version >= \"3.3\"->ipywidgets==7.7.0->-r requirements.txt (line 9)) (3.0.3)\n",
      "Requirement already satisfied: pickleshare in /opt/conda/lib/python3.7/site-packages (from ipython>=4.0.0; python_version >= \"3.3\"->ipywidgets==7.7.0->-r requirements.txt (line 9)) (0.7.5)\n",
      "Requirement already satisfied: zipp>=0.5 in /opt/conda/lib/python3.7/site-packages (from importlib-metadata>=0.12; python_version < \"3.8\"->pytest==7.1.1->-r requirements.txt (line 11)) (3.0.0)\n",
      "Requirement already satisfied: terminado>=0.8.1 in /opt/conda/lib/python3.7/site-packages (from notebook->jupyter==1.0.0->-r requirements.txt (line 14)) (0.8.3)\n",
      "Requirement already satisfied: prometheus-client in /opt/conda/lib/python3.7/site-packages (from notebook->jupyter==1.0.0->-r requirements.txt (line 14)) (0.7.1)\n",
      "Requirement already satisfied: Send2Trash in /opt/conda/lib/python3.7/site-packages (from notebook->jupyter==1.0.0->-r requirements.txt (line 14)) (1.5.0)\n",
      "Requirement already satisfied: pyzmq>=17 in /opt/conda/lib/python3.7/site-packages (from notebook->jupyter==1.0.0->-r requirements.txt (line 14)) (19.0.0)\n",
      "Requirement already satisfied: mistune<2,>=0.8.1 in /opt/conda/lib/python3.7/site-packages (from nbconvert->jupyter==1.0.0->-r requirements.txt (line 14)) (0.8.4)\n",
      "Requirement already satisfied: defusedxml in /opt/conda/lib/python3.7/site-packages (from nbconvert->jupyter==1.0.0->-r requirements.txt (line 14)) (0.6.0)\n",
      "Requirement already satisfied: bleach in /opt/conda/lib/python3.7/site-packages (from nbconvert->jupyter==1.0.0->-r requirements.txt (line 14)) (3.1.1)\n",
      "Requirement already satisfied: entrypoints>=0.2.2 in /opt/conda/lib/python3.7/site-packages (from nbconvert->jupyter==1.0.0->-r requirements.txt (line 14)) (0.3)\n",
      "Requirement already satisfied: testpath in /opt/conda/lib/python3.7/site-packages (from nbconvert->jupyter==1.0.0->-r requirements.txt (line 14)) (0.4.4)\n",
      "Requirement already satisfied: pandocfilters>=1.4.1 in /opt/conda/lib/python3.7/site-packages (from nbconvert->jupyter==1.0.0->-r requirements.txt (line 14)) (1.4.2)\n",
      "Requirement already satisfied: qtpy>=2.4.0 in /root/.local/lib/python3.7/site-packages (from qtconsole->jupyter==1.0.0->-r requirements.txt (line 14)) (2.4.1)\n",
      "Requirement already satisfied: pyrsistent>=0.14.0 in /opt/conda/lib/python3.7/site-packages (from jsonschema!=2.5.0,>=2.4->nbformat>=4.2.0->ipywidgets==7.7.0->-r requirements.txt (line 9)) (0.15.7)\n",
      "Requirement already satisfied: ptyprocess>=0.5 in /opt/conda/lib/python3.7/site-packages (from pexpect; sys_platform != \"win32\"->ipython>=4.0.0; python_version >= \"3.3\"->ipywidgets==7.7.0->-r requirements.txt (line 9)) (0.6.0)\n",
      "Requirement already satisfied: parso>=0.5.2 in /opt/conda/lib/python3.7/site-packages (from jedi>=0.10->ipython>=4.0.0; python_version >= \"3.3\"->ipywidgets==7.7.0->-r requirements.txt (line 9)) (0.6.1)\n",
      "Requirement already satisfied: wcwidth in /opt/conda/lib/python3.7/site-packages (from prompt-toolkit!=3.0.0,!=3.0.1,<3.1.0,>=2.0.0->ipython>=4.0.0; python_version >= \"3.3\"->ipywidgets==7.7.0->-r requirements.txt (line 9)) (0.1.8)\n",
      "Requirement already satisfied: webencodings in /opt/conda/lib/python3.7/site-packages (from bleach->nbconvert->jupyter==1.0.0->-r requirements.txt (line 14)) (0.5.1)\n"
     ]
    }
   ],
   "source": [
    "# Install requirements\n",
    "!python -m pip install -r requirements.txt"
   ]
  },
  {
   "cell_type": "markdown",
   "metadata": {},
   "source": [
    "## Imports"
   ]
  },
  {
   "cell_type": "code",
   "execution_count": 4,
   "metadata": {},
   "outputs": [],
   "source": [
    "## This cell contains the essential imports you will need – DO NOT CHANGE THE CONTENTS! ##\n",
    "import torch\n",
    "import torch.nn as nn\n",
    "import torch.nn.functional as F\n",
    "import torch.optim as optim\n",
    "import torchvision\n",
    "import torchvision.transforms as v2\n",
    "import matplotlib.pyplot as plt\n",
    "import numpy as np"
   ]
  },
  {
   "cell_type": "markdown",
   "metadata": {},
   "source": [
    "## Load the Dataset\n",
    "\n",
    "Specify your transforms as a list if you intend to .\n",
    "The transforms module is already loaded as `transforms`.\n",
    "\n",
    "MNIST is fortunately included in the torchvision module.\n",
    "Then, you can create your dataset using the `MNIST` object from `torchvision.datasets` ([the documentation is available here](https://pytorch.org/vision/stable/datasets.html#mnist)).\n",
    "Make sure to specify `download=True`! \n",
    "\n",
    "Once your dataset is created, you'll also need to define a `DataLoader` from the `torch.utils.data` module for both the train and the test set."
   ]
  },
  {
   "cell_type": "code",
   "execution_count": 5,
   "metadata": {},
   "outputs": [
    {
     "name": "stdout",
     "output_type": "stream",
     "text": [
      "Using cuda device\n"
     ]
    }
   ],
   "source": [
    "device = (\n",
    "    \"cuda\"\n",
    "    if torch.cuda.is_available()\n",
    "    else \"mps\"\n",
    "    if torch.backends.mps.is_available()\n",
    "    else \"cpu\"\n",
    ")\n",
    "print(f\"Using {device} device\")"
   ]
  },
  {
   "cell_type": "code",
   "execution_count": 19,
   "metadata": {
    "scrolled": true
   },
   "outputs": [],
   "source": [
    "# Define transforms\n",
    "transform = v2.Compose([\n",
    "   v2.ToTensor(),\n",
    "   v2.Normalize(mean=[0.5], std=[0.5])\n",
    "])\n",
    "\n",
    "# Create training set and define training dataloader\n",
    "training_data = torchvision.datasets.MNIST(\n",
    "    root=\"data\", \n",
    "    train=True, \n",
    "    download=True,\n",
    "    transform=transform\n",
    ")\n",
    "training_data.data.to(device)\n",
    "training_data.targets.to(device)\n",
    "train_dataloader = torch.utils.data.DataLoader(training_data, batch_size=16, shuffle=True)\n",
    "\n",
    "# Create test set and define test dataloader\n",
    "test_data = torchvision.datasets.MNIST(\n",
    "    root=\"data\", \n",
    "    train=False, \n",
    "    download=True,\n",
    "    transform=transform\n",
    ")\n",
    "test_data.data.to(device)\n",
    "test_data.targets.to(device)\n",
    "test_dataloader = torch.utils.data.DataLoader(test_data, batch_size=16, shuffle=True)"
   ]
  },
  {
   "cell_type": "markdown",
   "metadata": {},
   "source": [
    "## Justify your preprocessing\n",
    "\n",
    "In your own words, why did you choose the transforms you chose? If you didn't use any preprocessing steps, why not?"
   ]
  },
  {
   "cell_type": "markdown",
   "metadata": {},
   "source": [
    "**DOUBLE CLICK THIS CELL TO MODIFY**"
   ]
  },
  {
   "cell_type": "markdown",
   "metadata": {},
   "source": [
    "## Explore the Dataset\n",
    "Using matplotlib, numpy, and torch, explore the dimensions of your data.\n",
    "\n",
    "You can view images using the `show5` function defined below – it takes a data loader as an argument.\n",
    "Remember that normalized images will look really weird to you! You may want to try changing your transforms to view images.\n",
    "Typically using no transforms other than `toTensor()` works well for viewing – but not as well for training your network.\n",
    "If `show5` doesn't work, go back and check your code for creating your data loaders and your training/test sets."
   ]
  },
  {
   "cell_type": "code",
   "execution_count": 7,
   "metadata": {},
   "outputs": [
    {
     "data": {
      "text/plain": [
       "Dataset MNIST\n",
       "    Number of datapoints: 60000\n",
       "    Root location: data\n",
       "    Split: Train\n",
       "    StandardTransform\n",
       "Transform: Compose(\n",
       "               ToTensor()\n",
       "               Normalize(mean=[0.5], std=[0.5])\n",
       "           )"
      ]
     },
     "execution_count": 7,
     "metadata": {},
     "output_type": "execute_result"
    }
   ],
   "source": [
    "training_data"
   ]
  },
  {
   "cell_type": "code",
   "execution_count": 9,
   "metadata": {},
   "outputs": [],
   "source": [
    "## This cell contains a function for showing 5 images from a dataloader – DO NOT CHANGE THE CONTENTS! ##\n",
    "def show5(img_loader):\n",
    "    dataiter = iter(img_loader)\n",
    "    \n",
    "    batch = next(dataiter)\n",
    "    labels = batch[1][0:5]\n",
    "    images = batch[0][0:5]\n",
    "    for i in range(5):\n",
    "        print(int(labels[i].detach()))\n",
    "    \n",
    "        image = images[i].numpy()\n",
    "        plt.imshow(image.T.squeeze().T)\n",
    "        plt.show()"
   ]
  },
  {
   "cell_type": "code",
   "execution_count": 10,
   "metadata": {},
   "outputs": [
    {
     "name": "stdout",
     "output_type": "stream",
     "text": [
      "9\n"
     ]
    },
    {
     "data": {
      "image/png": "[encoded data removed]",
      "text/plain": [
       "<Figure size 432x288 with 1 Axes>"
      ]
     },
     "metadata": {
      "needs_background": "light"
     },
     "output_type": "display_data"
    },
    {
     "name": "stdout",
     "output_type": "stream",
     "text": [
      "9\n"
     ]
    },
    {
     "data": {
      "image/png": "[encoded data removed]",
      "text/plain": [
       "<Figure size 432x288 with 1 Axes>"
      ]
     },
     "metadata": {
      "needs_background": "light"
     },
     "output_type": "display_data"
    },
    {
     "name": "stdout",
     "output_type": "stream",
     "text": [
      "8\n"
     ]
    },
    {
     "data": {
      "image/png": "[encoded data removed]",
      "text/plain": [
       "<Figure size 432x288 with 1 Axes>"
      ]
     },
     "metadata": {
      "needs_background": "light"
     },
     "output_type": "display_data"
    },
    {
     "name": "stdout",
     "output_type": "stream",
     "text": [
      "8\n"
     ]
    },
    {
     "data": {
      "image/png": "[encoded data removed]",
      "text/plain": [
       "<Figure size 432x288 with 1 Axes>"
      ]
     },
     "metadata": {
      "needs_background": "light"
     },
     "output_type": "display_data"
    },
    {
     "name": "stdout",
     "output_type": "stream",
     "text": [
      "2\n"
     ]
    },
    {
     "data": {
      "image/png": "[encoded data removed]",
      "text/plain": [
       "<Figure size 432x288 with 1 Axes>"
      ]
     },
     "metadata": {
      "needs_background": "light"
     },
     "output_type": "display_data"
    }
   ],
   "source": [
    "# Explore data\n",
    "show5(train_dataloader)"
   ]
  },
  {
   "cell_type": "markdown",
   "metadata": {},
   "source": [
    "## Build your Neural Network\n",
    "Using the layers in `torch.nn` (which has been imported as `nn`) and the `torch.nn.functional` module (imported as `F`), construct a neural network based on the parameters of the dataset.\n",
    "Use any architecture you like. \n",
    "\n",
    "*Note*: If you did not flatten your tensors in your transforms or as part of your preprocessing and you are using only `Linear` layers, make sure to use the `Flatten` layer in your network!"
   ]
  },
  {
   "cell_type": "code",
   "execution_count": null,
   "metadata": {},
   "outputs": [],
   "source": []
  },
  {
   "cell_type": "code",
   "execution_count": 11,
   "metadata": {},
   "outputs": [],
   "source": [
    "class NeuralNetwork(nn.Module):\n",
    "    def __init__(self):\n",
    "        super().__init__()\n",
    "        self.flatten = nn.Flatten()\n",
    "        self.linear_relu_stack = nn.Sequential(\n",
    "            nn.Linear(28*28, 512),\n",
    "            nn.ReLU(),\n",
    "            nn.Linear(512, 512),\n",
    "            nn.ReLU(),\n",
    "            nn.Linear(512, 10),\n",
    "        )\n",
    "\n",
    "    def forward(self, x):\n",
    "        x = self.flatten(x)\n",
    "        logits = self.linear_relu_stack(x)\n",
    "        return logits\n"
   ]
  },
  {
   "cell_type": "code",
   "execution_count": 12,
   "metadata": {},
   "outputs": [
    {
     "name": "stdout",
     "output_type": "stream",
     "text": [
      "NeuralNetwork(\n",
      "  (flatten): Flatten(start_dim=1, end_dim=-1)\n",
      "  (linear_relu_stack): Sequential(\n",
      "    (0): Linear(in_features=784, out_features=512, bias=True)\n",
      "    (1): ReLU()\n",
      "    (2): Linear(in_features=512, out_features=512, bias=True)\n",
      "    (3): ReLU()\n",
      "    (4): Linear(in_features=512, out_features=10, bias=True)\n",
      "  )\n",
      ")\n"
     ]
    }
   ],
   "source": [
    "model = NeuralNetwork().to(device)\n",
    "print(model)"
   ]
  },
  {
   "cell_type": "code",
   "execution_count": 13,
   "metadata": {},
   "outputs": [
    {
     "name": "stdout",
     "output_type": "stream",
     "text": [
      "Predicted class: tensor([3], device='cuda:0')\n"
     ]
    }
   ],
   "source": [
    "# Take randomly 1 image\n",
    "X = torch.rand(1, 28, 28, device=device)\n",
    "logits = model(X)\n",
    "pred_probab = nn.Softmax(dim=1)(logits)\n",
    "y_pred = pred_probab.argmax(1)\n",
    "print(f\"Predicted class: {y_pred}\")"
   ]
  },
  {
   "cell_type": "markdown",
   "metadata": {},
   "source": [
    "Specify a loss function and an optimizer, and instantiate the model.\n",
    "\n",
    "If you use a less common loss function, please note why you chose that loss function in a comment."
   ]
  },
  {
   "cell_type": "code",
   "execution_count": 14,
   "metadata": {},
   "outputs": [],
   "source": [
    "learning_rate = 1e-3\n",
    "batch_size = 64"
   ]
  },
  {
   "cell_type": "code",
   "execution_count": 15,
   "metadata": {},
   "outputs": [],
   "source": [
    "# Initialize the loss function\n",
    "loss_fn = nn.CrossEntropyLoss()\n",
    "\n",
    "optimizer = torch.optim.SGD(model.parameters(), lr=learning_rate)"
   ]
  },
  {
   "cell_type": "markdown",
   "metadata": {},
   "source": [
    "## Running your Neural Network\n",
    "Use whatever method you like to train your neural network, and ensure you record the average loss at each epoch. \n",
    "Don't forget to use `torch.device()` and the `.to()` method for both your model and your data if you are using GPU!\n",
    "\n",
    "If you want to print your loss **during** each epoch, you can use the `enumerate` function and print the loss after a set number of batches. 250 batches works well for most people!"
   ]
  },
  {
   "cell_type": "code",
   "execution_count": 25,
   "metadata": {},
   "outputs": [],
   "source": [
    "def train_loop(dataloader, model, loss_fn, optimizer):\n",
    "    size = len(dataloader.dataset)\n",
    "    # Set the model to training mode - important for batch normalization and dropout layers\n",
    "    # Unnecessary in this situation but added for best practices\n",
    "    model.train()\n",
    "    for batch, (X, y) in enumerate(dataloader):\n",
    "        X = X.to(\"cuda:0\")\n",
    "        y = y.to(\"cuda:0\")\n",
    "        # Compute prediction and loss\n",
    "        pred = model(X)\n",
    "        loss = loss_fn(pred, y)\n",
    "\n",
    "        # Backpropagation\n",
    "        loss.backward()\n",
    "        optimizer.step()\n",
    "        optimizer.zero_grad()\n",
    "\n",
    "        if batch % 100 == 0:\n",
    "            loss, current = loss.item(), (batch + 1) * len(X)\n",
    "            print(f\"loss: {loss:>7f}  [{current:>5d}/{size:>5d}]\")\n",
    "\n",
    "\n",
    "def test_loop(dataloader, model, loss_fn):\n",
    "    # Set the model to evaluation mode - important for batch normalization and dropout layers\n",
    "    # Unnecessary in this situation but added for best practices\n",
    "    model.eval()\n",
    "    size = len(dataloader.dataset)\n",
    "    num_batches = len(dataloader)\n",
    "    test_loss, correct = 0, 0\n",
    "\n",
    "    # Evaluating the model with torch.no_grad() ensures that no gradients are computed during test mode\n",
    "    # also serves to reduce unnecessary gradient computations and memory usage for tensors with requires_grad=True\n",
    "    with torch.no_grad():\n",
    "        for X, y in dataloader:\n",
    "            X = X.to(\"cuda:0\")\n",
    "            y = y.to(\"cuda:0\")\n",
    "            pred = model(X)\n",
    "            test_loss += loss_fn(pred, y).item()\n",
    "            correct += (pred.argmax(1) == y).type(torch.float).sum().item()\n",
    "\n",
    "    test_loss /= num_batches\n",
    "    correct /= size\n",
    "    print(f\"Test Error: \\n Accuracy: {(100*correct):>0.1f}%, Avg loss: {test_loss:>8f} \\n\")"
   ]
  },
  {
   "cell_type": "markdown",
   "metadata": {},
   "source": [
    "Plot the training loss (and validation loss/accuracy, if recorded)."
   ]
  },
  {
   "cell_type": "code",
   "execution_count": 26,
   "metadata": {},
   "outputs": [
    {
     "name": "stdout",
     "output_type": "stream",
     "text": [
      "Epoch 1\n",
      "-------------------------------\n",
      "loss: 0.769848  [   16/60000]\n",
      "loss: 0.784096  [ 1616/60000]\n",
      "loss: 0.741426  [ 3216/60000]\n",
      "loss: 0.399262  [ 4816/60000]\n",
      "loss: 0.635175  [ 6416/60000]\n",
      "loss: 0.709135  [ 8016/60000]\n",
      "loss: 0.306555  [ 9616/60000]\n",
      "loss: 0.429200  [11216/60000]\n",
      "loss: 0.388656  [12816/60000]\n",
      "loss: 0.689654  [14416/60000]\n",
      "loss: 0.833126  [16016/60000]\n",
      "loss: 0.324721  [17616/60000]\n",
      "loss: 0.988541  [19216/60000]\n",
      "loss: 0.694918  [20816/60000]\n",
      "loss: 0.525930  [22416/60000]\n",
      "loss: 0.598502  [24016/60000]\n",
      "loss: 0.345805  [25616/60000]\n",
      "loss: 0.589200  [27216/60000]\n",
      "loss: 0.431675  [28816/60000]\n",
      "loss: 0.684565  [30416/60000]\n",
      "loss: 0.278025  [32016/60000]\n",
      "loss: 0.500731  [33616/60000]\n",
      "loss: 0.332720  [35216/60000]\n",
      "loss: 0.661860  [36816/60000]\n",
      "loss: 0.628080  [38416/60000]\n",
      "loss: 0.368318  [40016/60000]\n",
      "loss: 0.845979  [41616/60000]\n",
      "loss: 0.324888  [43216/60000]\n",
      "loss: 0.278851  [44816/60000]\n",
      "loss: 0.432507  [46416/60000]\n",
      "loss: 0.346293  [48016/60000]\n",
      "loss: 0.549415  [49616/60000]\n",
      "loss: 0.761716  [51216/60000]\n",
      "loss: 0.707362  [52816/60000]\n",
      "loss: 0.751699  [54416/60000]\n",
      "loss: 0.274095  [56016/60000]\n",
      "loss: 0.566671  [57616/60000]\n",
      "loss: 0.579983  [59216/60000]\n",
      "Test Error: \n",
      " Accuracy: 88.8%, Avg loss: 0.417647 \n",
      "\n",
      "Epoch 2\n",
      "-------------------------------\n",
      "loss: 0.301263  [   16/60000]\n",
      "loss: 0.423797  [ 1616/60000]\n",
      "loss: 0.655654  [ 3216/60000]\n",
      "loss: 0.460714  [ 4816/60000]\n",
      "loss: 0.390724  [ 6416/60000]\n",
      "loss: 0.381857  [ 8016/60000]\n",
      "loss: 0.341311  [ 9616/60000]\n",
      "loss: 0.504198  [11216/60000]\n",
      "loss: 0.170684  [12816/60000]\n",
      "loss: 0.347549  [14416/60000]\n",
      "loss: 0.353427  [16016/60000]\n",
      "loss: 0.789510  [17616/60000]\n",
      "loss: 0.424494  [19216/60000]\n",
      "loss: 0.502097  [20816/60000]\n",
      "loss: 0.479973  [22416/60000]\n",
      "loss: 0.272437  [24016/60000]\n",
      "loss: 0.454761  [25616/60000]\n",
      "loss: 0.208027  [27216/60000]\n",
      "loss: 0.478825  [28816/60000]\n",
      "loss: 0.524685  [30416/60000]\n",
      "loss: 0.212467  [32016/60000]\n",
      "loss: 0.442692  [33616/60000]\n",
      "loss: 0.282797  [35216/60000]\n",
      "loss: 0.994836  [36816/60000]\n",
      "loss: 0.228563  [38416/60000]\n",
      "loss: 0.328382  [40016/60000]\n",
      "loss: 0.165118  [41616/60000]\n",
      "loss: 0.513131  [43216/60000]\n",
      "loss: 0.179413  [44816/60000]\n",
      "loss: 0.189882  [46416/60000]\n",
      "loss: 0.384887  [48016/60000]\n",
      "loss: 0.288900  [49616/60000]\n",
      "loss: 0.612545  [51216/60000]\n",
      "loss: 0.307731  [52816/60000]\n",
      "loss: 0.374299  [54416/60000]\n",
      "loss: 0.108746  [56016/60000]\n",
      "loss: 0.300286  [57616/60000]\n",
      "loss: 0.252499  [59216/60000]\n",
      "Test Error: \n",
      " Accuracy: 89.8%, Avg loss: 0.356212 \n",
      "\n",
      "Epoch 3\n",
      "-------------------------------\n",
      "loss: 0.354322  [   16/60000]\n",
      "loss: 0.405325  [ 1616/60000]\n",
      "loss: 0.626138  [ 3216/60000]\n",
      "loss: 0.197946  [ 4816/60000]\n",
      "loss: 0.155491  [ 6416/60000]\n",
      "loss: 0.207577  [ 8016/60000]\n",
      "loss: 1.010509  [ 9616/60000]\n",
      "loss: 0.386578  [11216/60000]\n",
      "loss: 0.172635  [12816/60000]\n",
      "loss: 0.391990  [14416/60000]\n",
      "loss: 0.507920  [16016/60000]\n",
      "loss: 0.282578  [17616/60000]\n",
      "loss: 0.338819  [19216/60000]\n",
      "loss: 0.388509  [20816/60000]\n",
      "loss: 0.451549  [22416/60000]\n",
      "loss: 0.442569  [24016/60000]\n",
      "loss: 0.137282  [25616/60000]\n",
      "loss: 0.265919  [27216/60000]\n",
      "loss: 0.231845  [28816/60000]\n",
      "loss: 0.294451  [30416/60000]\n",
      "loss: 0.208587  [32016/60000]\n",
      "loss: 0.484554  [33616/60000]\n",
      "loss: 0.469954  [35216/60000]\n",
      "loss: 0.244604  [36816/60000]\n",
      "loss: 0.322408  [38416/60000]\n",
      "loss: 0.406951  [40016/60000]\n",
      "loss: 0.208343  [41616/60000]\n",
      "loss: 0.504131  [43216/60000]\n",
      "loss: 0.317074  [44816/60000]\n",
      "loss: 0.211408  [46416/60000]\n",
      "loss: 0.532087  [48016/60000]\n",
      "loss: 0.839742  [49616/60000]\n",
      "loss: 0.044357  [51216/60000]\n",
      "loss: 0.662155  [52816/60000]\n",
      "loss: 0.386051  [54416/60000]\n",
      "loss: 0.570779  [56016/60000]\n",
      "loss: 0.491915  [57616/60000]\n",
      "loss: 0.351403  [59216/60000]\n",
      "Test Error: \n",
      " Accuracy: 90.6%, Avg loss: 0.325906 \n",
      "\n",
      "Epoch 4\n",
      "-------------------------------\n",
      "loss: 0.122994  [   16/60000]\n",
      "loss: 0.216598  [ 1616/60000]\n",
      "loss: 0.275205  [ 3216/60000]\n",
      "loss: 0.175778  [ 4816/60000]\n",
      "loss: 0.406767  [ 6416/60000]\n",
      "loss: 0.231943  [ 8016/60000]\n",
      "loss: 0.205045  [ 9616/60000]\n",
      "loss: 0.347016  [11216/60000]\n",
      "loss: 0.105546  [12816/60000]\n",
      "loss: 0.336407  [14416/60000]\n",
      "loss: 0.614989  [16016/60000]\n",
      "loss: 0.634291  [17616/60000]\n",
      "loss: 0.520868  [19216/60000]\n",
      "loss: 0.525919  [20816/60000]\n",
      "loss: 0.139723  [22416/60000]\n",
      "loss: 0.076724  [24016/60000]\n",
      "loss: 0.136619  [25616/60000]\n",
      "loss: 0.117689  [27216/60000]\n",
      "loss: 0.293607  [28816/60000]\n",
      "loss: 0.175079  [30416/60000]\n",
      "loss: 0.224062  [32016/60000]\n",
      "loss: 0.610746  [33616/60000]\n",
      "loss: 0.491680  [35216/60000]\n",
      "loss: 0.128477  [36816/60000]\n",
      "loss: 0.293287  [38416/60000]\n",
      "loss: 0.135365  [40016/60000]\n",
      "loss: 0.457502  [41616/60000]\n",
      "loss: 0.122073  [43216/60000]\n",
      "loss: 0.199635  [44816/60000]\n",
      "loss: 0.143074  [46416/60000]\n",
      "loss: 0.472334  [48016/60000]\n",
      "loss: 0.167928  [49616/60000]\n",
      "loss: 0.095146  [51216/60000]\n",
      "loss: 0.266875  [52816/60000]\n",
      "loss: 0.523335  [54416/60000]\n",
      "loss: 0.278474  [56016/60000]\n",
      "loss: 0.483776  [57616/60000]\n",
      "loss: 0.585230  [59216/60000]\n",
      "Test Error: \n",
      " Accuracy: 91.1%, Avg loss: 0.305911 \n",
      "\n",
      "Epoch 5\n",
      "-------------------------------\n",
      "loss: 0.719747  [   16/60000]\n",
      "loss: 0.235194  [ 1616/60000]\n",
      "loss: 0.425976  [ 3216/60000]\n",
      "loss: 0.280638  [ 4816/60000]\n",
      "loss: 0.533773  [ 6416/60000]\n",
      "loss: 0.085432  [ 8016/60000]\n",
      "loss: 0.266294  [ 9616/60000]\n",
      "loss: 0.216831  [11216/60000]\n",
      "loss: 0.092566  [12816/60000]\n",
      "loss: 0.049781  [14416/60000]\n",
      "loss: 0.503753  [16016/60000]\n",
      "loss: 0.292467  [17616/60000]\n",
      "loss: 0.290905  [19216/60000]\n",
      "loss: 0.255956  [20816/60000]\n",
      "loss: 0.303708  [22416/60000]\n",
      "loss: 0.322038  [24016/60000]\n",
      "loss: 0.288242  [25616/60000]\n",
      "loss: 0.209341  [27216/60000]\n",
      "loss: 0.187571  [28816/60000]\n",
      "loss: 0.144513  [30416/60000]\n",
      "loss: 0.067577  [32016/60000]\n",
      "loss: 0.286571  [33616/60000]\n",
      "loss: 0.360840  [35216/60000]\n",
      "loss: 0.327751  [36816/60000]\n",
      "loss: 0.537294  [38416/60000]\n",
      "loss: 0.281028  [40016/60000]\n",
      "loss: 0.054108  [41616/60000]\n",
      "loss: 0.218199  [43216/60000]\n",
      "loss: 0.242417  [44816/60000]\n",
      "loss: 0.080982  [46416/60000]\n",
      "loss: 0.317115  [48016/60000]\n",
      "loss: 0.151555  [49616/60000]\n",
      "loss: 0.467174  [51216/60000]\n",
      "loss: 0.370342  [52816/60000]\n",
      "loss: 0.359613  [54416/60000]\n",
      "loss: 0.366820  [56016/60000]\n",
      "loss: 0.155710  [57616/60000]\n",
      "loss: 0.145265  [59216/60000]\n",
      "Test Error: \n",
      " Accuracy: 91.6%, Avg loss: 0.293134 \n",
      "\n",
      "Epoch 6\n",
      "-------------------------------\n",
      "loss: 0.219674  [   16/60000]\n",
      "loss: 0.078423  [ 1616/60000]\n",
      "loss: 0.169191  [ 3216/60000]\n",
      "loss: 0.081189  [ 4816/60000]\n",
      "loss: 0.054369  [ 6416/60000]\n",
      "loss: 0.179999  [ 8016/60000]\n",
      "loss: 0.070385  [ 9616/60000]\n",
      "loss: 0.261748  [11216/60000]\n",
      "loss: 0.074978  [12816/60000]\n",
      "loss: 0.595538  [14416/60000]\n",
      "loss: 0.469455  [16016/60000]\n",
      "loss: 0.793613  [17616/60000]\n",
      "loss: 0.199730  [19216/60000]\n",
      "loss: 0.046133  [20816/60000]\n",
      "loss: 0.265218  [22416/60000]\n",
      "loss: 0.181749  [24016/60000]\n",
      "loss: 0.052927  [25616/60000]\n",
      "loss: 0.084329  [27216/60000]\n",
      "loss: 0.401654  [28816/60000]\n",
      "loss: 0.355370  [30416/60000]\n",
      "loss: 0.197000  [32016/60000]\n",
      "loss: 0.409913  [33616/60000]\n",
      "loss: 0.443145  [35216/60000]\n",
      "loss: 0.384031  [36816/60000]\n",
      "loss: 0.611234  [38416/60000]\n",
      "loss: 0.104118  [40016/60000]\n",
      "loss: 0.418997  [41616/60000]\n",
      "loss: 0.181006  [43216/60000]\n",
      "loss: 0.292493  [44816/60000]\n",
      "loss: 0.333566  [46416/60000]\n",
      "loss: 0.162719  [48016/60000]\n",
      "loss: 0.278060  [49616/60000]\n",
      "loss: 0.340882  [51216/60000]\n",
      "loss: 0.456151  [52816/60000]\n",
      "loss: 0.075985  [54416/60000]\n",
      "loss: 0.224485  [56016/60000]\n",
      "loss: 0.184599  [57616/60000]\n",
      "loss: 0.359760  [59216/60000]\n",
      "Test Error: \n",
      " Accuracy: 92.0%, Avg loss: 0.278389 \n",
      "\n",
      "Epoch 7\n",
      "-------------------------------\n",
      "loss: 0.638899  [   16/60000]\n",
      "loss: 0.276479  [ 1616/60000]\n",
      "loss: 0.403933  [ 3216/60000]\n",
      "loss: 0.168977  [ 4816/60000]\n",
      "loss: 0.180922  [ 6416/60000]\n",
      "loss: 0.120776  [ 8016/60000]\n",
      "loss: 0.270972  [ 9616/60000]\n",
      "loss: 0.110987  [11216/60000]\n",
      "loss: 0.153840  [12816/60000]\n",
      "loss: 0.764758  [14416/60000]\n",
      "loss: 0.466079  [16016/60000]\n",
      "loss: 0.298782  [17616/60000]\n",
      "loss: 0.089930  [19216/60000]\n",
      "loss: 0.189142  [20816/60000]\n",
      "loss: 0.094697  [22416/60000]\n",
      "loss: 0.391337  [24016/60000]\n",
      "loss: 0.219445  [25616/60000]\n",
      "loss: 0.137581  [27216/60000]\n",
      "loss: 0.269280  [28816/60000]\n",
      "loss: 0.178289  [30416/60000]\n",
      "loss: 0.350376  [32016/60000]\n",
      "loss: 0.300962  [33616/60000]\n",
      "loss: 0.160751  [35216/60000]\n",
      "loss: 0.217170  [36816/60000]\n",
      "loss: 0.421462  [38416/60000]\n",
      "loss: 0.324096  [40016/60000]\n",
      "loss: 0.068209  [41616/60000]\n",
      "loss: 0.689468  [43216/60000]\n",
      "loss: 0.287874  [44816/60000]\n",
      "loss: 0.327657  [46416/60000]\n",
      "loss: 0.123229  [48016/60000]\n",
      "loss: 0.186834  [49616/60000]\n",
      "loss: 0.232326  [51216/60000]\n",
      "loss: 0.369672  [52816/60000]\n",
      "loss: 0.182210  [54416/60000]\n",
      "loss: 0.509477  [56016/60000]\n",
      "loss: 0.660950  [57616/60000]\n",
      "loss: 0.254048  [59216/60000]\n",
      "Test Error: \n",
      " Accuracy: 92.3%, Avg loss: 0.267482 \n",
      "\n",
      "Epoch 8\n",
      "-------------------------------\n",
      "loss: 0.228580  [   16/60000]\n",
      "loss: 0.889319  [ 1616/60000]\n",
      "loss: 0.129209  [ 3216/60000]\n",
      "loss: 0.282672  [ 4816/60000]\n",
      "loss: 0.135879  [ 6416/60000]\n",
      "loss: 0.316025  [ 8016/60000]\n",
      "loss: 0.155982  [ 9616/60000]\n",
      "loss: 0.254825  [11216/60000]\n",
      "loss: 0.695982  [12816/60000]\n",
      "loss: 0.124006  [14416/60000]\n",
      "loss: 0.085817  [16016/60000]\n",
      "loss: 0.607930  [17616/60000]\n",
      "loss: 0.681178  [19216/60000]\n",
      "loss: 0.423189  [20816/60000]\n",
      "loss: 0.817693  [22416/60000]\n",
      "loss: 0.420320  [24016/60000]\n",
      "loss: 0.118390  [25616/60000]\n",
      "loss: 0.123833  [27216/60000]\n",
      "loss: 0.148403  [28816/60000]\n",
      "loss: 0.556645  [30416/60000]\n",
      "loss: 0.247735  [32016/60000]\n",
      "loss: 0.321821  [33616/60000]\n",
      "loss: 0.461065  [35216/60000]\n",
      "loss: 0.181515  [36816/60000]\n",
      "loss: 0.101800  [38416/60000]\n",
      "loss: 0.373970  [40016/60000]\n",
      "loss: 0.662321  [41616/60000]\n",
      "loss: 0.116119  [43216/60000]\n",
      "loss: 0.090376  [44816/60000]\n",
      "loss: 0.056016  [46416/60000]\n",
      "loss: 0.583799  [48016/60000]\n",
      "loss: 0.513642  [49616/60000]\n",
      "loss: 0.045174  [51216/60000]\n",
      "loss: 0.719739  [52816/60000]\n",
      "loss: 0.378554  [54416/60000]\n",
      "loss: 0.076144  [56016/60000]\n",
      "loss: 0.094831  [57616/60000]\n",
      "loss: 0.253495  [59216/60000]\n",
      "Test Error: \n",
      " Accuracy: 92.5%, Avg loss: 0.259878 \n",
      "\n",
      "Epoch 9\n",
      "-------------------------------\n",
      "loss: 0.072087  [   16/60000]\n",
      "loss: 0.164181  [ 1616/60000]\n",
      "loss: 0.594928  [ 3216/60000]\n",
      "loss: 0.134468  [ 4816/60000]\n",
      "loss: 0.325128  [ 6416/60000]\n",
      "loss: 0.928476  [ 8016/60000]\n",
      "loss: 0.255989  [ 9616/60000]\n",
      "loss: 0.304231  [11216/60000]\n",
      "loss: 0.427642  [12816/60000]\n",
      "loss: 0.050154  [14416/60000]\n",
      "loss: 0.131715  [16016/60000]\n",
      "loss: 0.207274  [17616/60000]\n",
      "loss: 0.311007  [19216/60000]\n",
      "loss: 0.594817  [20816/60000]\n",
      "loss: 0.197503  [22416/60000]\n",
      "loss: 0.170080  [24016/60000]\n",
      "loss: 0.378902  [25616/60000]\n",
      "loss: 0.054286  [27216/60000]\n",
      "loss: 0.517212  [28816/60000]\n",
      "loss: 0.358634  [30416/60000]\n",
      "loss: 0.370091  [32016/60000]\n",
      "loss: 0.486583  [33616/60000]\n",
      "loss: 0.079580  [35216/60000]\n",
      "loss: 1.056403  [36816/60000]\n",
      "loss: 0.069649  [38416/60000]\n",
      "loss: 0.161681  [40016/60000]\n",
      "loss: 0.101872  [41616/60000]\n",
      "loss: 0.150872  [43216/60000]\n",
      "loss: 0.073481  [44816/60000]\n",
      "loss: 0.173349  [46416/60000]\n",
      "loss: 0.103860  [48016/60000]\n",
      "loss: 0.188580  [49616/60000]\n",
      "loss: 0.057131  [51216/60000]\n",
      "loss: 0.205152  [52816/60000]\n",
      "loss: 0.151945  [54416/60000]\n",
      "loss: 0.263940  [56016/60000]\n",
      "loss: 0.072588  [57616/60000]\n",
      "loss: 0.386606  [59216/60000]\n",
      "Test Error: \n",
      " Accuracy: 92.8%, Avg loss: 0.248794 \n",
      "\n",
      "Epoch 10\n",
      "-------------------------------\n",
      "loss: 0.095739  [   16/60000]\n",
      "loss: 0.606934  [ 1616/60000]\n",
      "loss: 0.092532  [ 3216/60000]\n",
      "loss: 0.959939  [ 4816/60000]\n",
      "loss: 0.126611  [ 6416/60000]\n",
      "loss: 0.488190  [ 8016/60000]\n",
      "loss: 0.176969  [ 9616/60000]\n",
      "loss: 0.128810  [11216/60000]\n",
      "loss: 0.119436  [12816/60000]\n",
      "loss: 0.129026  [14416/60000]\n",
      "loss: 0.090166  [16016/60000]\n",
      "loss: 0.371881  [17616/60000]\n",
      "loss: 0.425309  [19216/60000]\n",
      "loss: 0.153736  [20816/60000]\n",
      "loss: 0.199080  [22416/60000]\n",
      "loss: 0.311873  [24016/60000]\n",
      "loss: 0.158373  [25616/60000]\n",
      "loss: 0.052424  [27216/60000]\n",
      "loss: 0.263544  [28816/60000]\n",
      "loss: 0.332320  [30416/60000]\n",
      "loss: 0.060114  [32016/60000]\n",
      "loss: 0.118756  [33616/60000]\n",
      "loss: 0.321747  [35216/60000]\n",
      "loss: 0.101485  [36816/60000]\n",
      "loss: 0.084717  [38416/60000]\n",
      "loss: 0.361206  [40016/60000]\n",
      "loss: 0.368964  [41616/60000]\n",
      "loss: 0.469649  [43216/60000]\n",
      "loss: 0.237973  [44816/60000]\n",
      "loss: 0.234463  [46416/60000]\n",
      "loss: 0.342705  [48016/60000]\n",
      "loss: 0.383480  [49616/60000]\n",
      "loss: 0.509220  [51216/60000]\n",
      "loss: 0.667111  [52816/60000]\n",
      "loss: 0.217745  [54416/60000]\n",
      "loss: 0.154304  [56016/60000]\n",
      "loss: 0.056181  [57616/60000]\n",
      "loss: 0.056198  [59216/60000]\n",
      "Test Error: \n",
      " Accuracy: 93.1%, Avg loss: 0.242037 \n",
      "\n",
      "Done!\n"
     ]
    }
   ],
   "source": [
    "epochs = 10\n",
    "for t in range(epochs):\n",
    "    print(f\"Epoch {t+1}\\n-------------------------------\")\n",
    "    train_loop(train_dataloader, model, loss_fn, optimizer)\n",
    "    test_loop(test_dataloader, model, loss_fn)\n",
    "print(\"Done!\")"
   ]
  },
  {
   "cell_type": "markdown",
   "metadata": {},
   "source": [
    "## Testing your model\n",
    "Using the previously created `DataLoader` for the test set, compute the percentage of correct predictions using the highest probability prediction. \n",
    "\n",
    "If your accuracy is over 90%, great work, but see if you can push a bit further! \n",
    "If your accuracy is under 90%, you'll need to make improvements.\n",
    "Go back and check your model architecture, loss function, and optimizer to make sure they're appropriate for an image classification task."
   ]
  },
  {
   "cell_type": "code",
   "execution_count": 28,
   "metadata": {},
   "outputs": [
    {
     "name": "stdout",
     "output_type": "stream",
     "text": [
      "Test Error: \n",
      " Accuracy: 93.1%, Avg loss: 0.242037 \n",
      "\n"
     ]
    }
   ],
   "source": [
    "test_loop(test_dataloader, model, loss_fn)"
   ]
  },
  {
   "cell_type": "markdown",
   "metadata": {},
   "source": [
    "## Improving your model\n",
    "\n",
    "Once your model is done training, try tweaking your hyperparameters and training again below to improve your accuracy on the test set!"
   ]
  },
  {
   "cell_type": "code",
   "execution_count": null,
   "metadata": {},
   "outputs": [],
   "source": [
    "# Done"
   ]
  },
  {
   "cell_type": "markdown",
   "metadata": {},
   "source": [
    "## Saving your model\n",
    "Using `torch.save`, save your model for future loading."
   ]
  },
  {
   "cell_type": "code",
   "execution_count": 29,
   "metadata": {},
   "outputs": [],
   "source": [
    "torch.save(model, 'model.pth')"
   ]
  },
  {
   "cell_type": "code",
   "execution_count": null,
   "metadata": {},
   "outputs": [],
   "source": []
  }
 ],
 "metadata": {
  "kernelspec": {
   "display_name": "Python 3",
   "language": "python",
   "name": "python3"
  },
  "language_info": {
   "codemirror_mode": {
    "name": "ipython",
    "version": 3
   },
   "file_extension": ".py",
   "mimetype": "text/x-python",
   "name": "python",
   "nbconvert_exporter": "python",
   "pygments_lexer": "ipython3",
   "version": "3.7.6"
  }
 },
 "nbformat": 4,
 "nbformat_minor": 4
}
