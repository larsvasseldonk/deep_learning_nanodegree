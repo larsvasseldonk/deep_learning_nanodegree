{
 "cells": [
  {
   "cell_type": "markdown",
   "id": "1200bf91-e3f3-4ac9-a3b9-918679c3b057",
   "metadata": {},
   "source": [
    "# Implementing RNNs and LSTMs\n",
    "\n",
    "In this lesson, we will cover the following topics:\n",
    "- Introduction to Implementing RNNs\n",
    "- Training and Memory\n",
    "- Character-wise RNNs\n",
    "\n",
    "By the end of the lesson, you'll be able to:\n",
    "- Train a simple RNN to do regression\n",
    "- Implement a Char RNN"
   ]
  },
  {
   "cell_type": "markdown",
   "id": "0aa0615f-9df6-48a0-a529-b2a1854a3aa2",
   "metadata": {},
   "source": [
    "## Implementing RNNs\n",
    "\n",
    "RNNs are very useful for sequence-based tasks. The challenges for implementing RNNs are two-fold.\n",
    "- How do we **pre-process sequential data** for our network\n",
    "- How do we **represent memory** in our code"
   ]
  },
  {
   "cell_type": "code",
   "execution_count": null,
   "id": "5855ca65-ccae-4f4d-90b9-5e8335f10bcd",
   "metadata": {},
   "outputs": [],
   "source": []
  }
 ],
 "metadata": {
  "kernelspec": {
   "display_name": "Python 3 (ipykernel)",
   "language": "python",
   "name": "python3"
  },
  "language_info": {
   "codemirror_mode": {
    "name": "ipython",
    "version": 3
   },
   "file_extension": ".py",
   "mimetype": "text/x-python",
   "name": "python",
   "nbconvert_exporter": "python",
   "pygments_lexer": "ipython3",
   "version": "3.11.4"
  }
 },
 "nbformat": 4,
 "nbformat_minor": 5
}
