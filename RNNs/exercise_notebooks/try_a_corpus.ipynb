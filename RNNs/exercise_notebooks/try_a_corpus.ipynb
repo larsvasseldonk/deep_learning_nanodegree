{
 "cells": [
  {
   "cell_type": "code",
   "execution_count": 10,
   "id": "7bd2add1-6bf0-42dc-8810-e105b62684b1",
   "metadata": {},
   "outputs": [],
   "source": [
    "import gzip\n",
    "import pandas as pd\n",
    "from nltk.stem.porter import *\n",
    "from nltk.stem import *\n",
    "from nltk.tokenize import RegexpTokenizer\n",
    "import nltk\n",
    "\n",
    "## We define the vocabulary class in this code sample.\n",
    "\n",
    "class Vocab:\n",
    "    def __init__(self, name):\n",
    "        self.name = name\n",
    "        self.index = {}\n",
    "        self.count = 0\n",
    "        self.words = {}\n",
    "\n",
    "    # This function cleans our words before adding them\n",
    "    def cleanText(self, text):\n",
    "        tokenizer = RegexpTokenizer(r'\\w+')\n",
    "        text = tokenizer.tokenize(text)\n",
    "        return text\n",
    "    \n",
    "    # This function indexes words in our vocabulary\n",
    "    def indexWord(self, word):\n",
    "        if word not in self.index:\n",
    "            self.words[word] = self.count\n",
    "            self.index[str(self.count)] = word\n",
    "            self.count += 1\n",
    "\n",
    "vocab = Vocab(name='firstVocab')"
   ]
  },
  {
   "cell_type": "code",
   "execution_count": 11,
   "id": "3f77e51a-114d-458c-b85c-3025373f7e7c",
   "metadata": {},
   "outputs": [],
   "source": [
    "df = pd.DataFrame({\n",
    "    \"text\": [\"hallo, ik ben lars\", \"hoe heet jij\", \"kun je nederlands\"]\n",
    "})"
   ]
  },
  {
   "cell_type": "code",
   "execution_count": 12,
   "id": "285c18fb-ba59-436c-803d-4d802d7bd28a",
   "metadata": {},
   "outputs": [
    {
     "data": {
      "text/html": [
       "<div>\n",
       "<style scoped>\n",
       "    .dataframe tbody tr th:only-of-type {\n",
       "        vertical-align: middle;\n",
       "    }\n",
       "\n",
       "    .dataframe tbody tr th {\n",
       "        vertical-align: top;\n",
       "    }\n",
       "\n",
       "    .dataframe thead th {\n",
       "        text-align: right;\n",
       "    }\n",
       "</style>\n",
       "<table border=\"1\" class=\"dataframe\">\n",
       "  <thead>\n",
       "    <tr style=\"text-align: right;\">\n",
       "      <th></th>\n",
       "      <th>text</th>\n",
       "    </tr>\n",
       "  </thead>\n",
       "  <tbody>\n",
       "    <tr>\n",
       "      <th>0</th>\n",
       "      <td>hallo, ik ben lars</td>\n",
       "    </tr>\n",
       "    <tr>\n",
       "      <th>1</th>\n",
       "      <td>hoe heet jij</td>\n",
       "    </tr>\n",
       "    <tr>\n",
       "      <th>2</th>\n",
       "      <td>kun je nederlands</td>\n",
       "    </tr>\n",
       "  </tbody>\n",
       "</table>\n",
       "</div>"
      ],
      "text/plain": [
       "                 text\n",
       "0  hallo, ik ben lars\n",
       "1        hoe heet jij\n",
       "2   kun je nederlands"
      ]
     },
     "execution_count": 12,
     "metadata": {},
     "output_type": "execute_result"
    }
   ],
   "source": [
    "df"
   ]
  },
  {
   "cell_type": "code",
   "execution_count": 13,
   "id": "d6e76052-7c8a-433f-a7fc-40c97e302469",
   "metadata": {},
   "outputs": [
    {
     "name": "stdout",
     "output_type": "stream",
     "text": [
      "Adding word 0 to our vocabulary.\n"
     ]
    }
   ],
   "source": [
    "## Next, we iterate through our vocabulary dataframe and add each word to the vocabulary.\n",
    "\n",
    "count = 0\n",
    "for i,r, in df.iterrows():\n",
    "  text = vocab.cleanText(r['text'])\n",
    "  for t in text:\n",
    "    if count % 1000 == 0:\n",
    "        print(\"Adding word {} to our vocabulary.\".format(count))\n",
    "    vocab.indexWord(t)\n",
    "    count += 1"
   ]
  },
  {
   "cell_type": "code",
   "execution_count": 15,
   "id": "dde107d6-6b4e-48b8-bd36-1e7ccf5ad34a",
   "metadata": {},
   "outputs": [
    {
     "data": {
      "text/plain": [
       "{'0': 'hallo',\n",
       " '1': 'ik',\n",
       " '2': 'ben',\n",
       " '3': 'lars',\n",
       " '4': 'hoe',\n",
       " '5': 'heet',\n",
       " '6': 'jij',\n",
       " '7': 'kun',\n",
       " '8': 'je',\n",
       " '9': 'nederlands'}"
      ]
     },
     "execution_count": 15,
     "metadata": {},
     "output_type": "execute_result"
    }
   ],
   "source": [
    "vocab.index"
   ]
  },
  {
   "cell_type": "code",
   "execution_count": null,
   "id": "cdb2368b-3ce4-45a2-b68f-199d0015e24a",
   "metadata": {},
   "outputs": [],
   "source": []
  }
 ],
 "metadata": {
  "kernelspec": {
   "display_name": "Python 3 (ipykernel)",
   "language": "python",
   "name": "python3"
  },
  "language_info": {
   "codemirror_mode": {
    "name": "ipython",
    "version": 3
   },
   "file_extension": ".py",
   "mimetype": "text/x-python",
   "name": "python",
   "nbconvert_exporter": "python",
   "pygments_lexer": "ipython3",
   "version": "3.11.4"
  }
 },
 "nbformat": 4,
 "nbformat_minor": 5
}
