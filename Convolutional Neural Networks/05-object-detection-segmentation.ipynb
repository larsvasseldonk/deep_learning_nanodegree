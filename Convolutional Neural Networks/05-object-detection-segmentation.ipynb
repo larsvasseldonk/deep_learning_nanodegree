{
 "cells": [
  {
   "cell_type": "markdown",
   "id": "2aeed9b8-5975-4efd-88bf-a5dcf0614331",
   "metadata": {},
   "source": [
    "# Object detection and segmentation\n",
    "\n",
    "Different types of tasks for computer vision:\n",
    "- Image classification: Assign one or more labels to an image\n",
    "- **Object localization**: Assign a label to most prominent object, define a box around that object\n",
    "- **Object detection**: Assign a label and define a box for all objects in an image\n",
    "- **Semantic segmentation**: Determine the class of each pixel in the image\n",
    "- Instance segmentation: Determine the class of each pixel in the image distinguishing different instances of the same class\n",
    "\n",
    "In this lesson, we focus on the bold types of tasks."
   ]
  },
  {
   "cell_type": "markdown",
   "id": "2c0722c1-7f2a-4203-8c77-77707274799a",
   "metadata": {},
   "source": [
    "## Object localization\n"
   ]
  },
  {
   "cell_type": "code",
   "execution_count": null,
   "id": "c068e901-fc51-417c-aa32-b4e4ce656a06",
   "metadata": {},
   "outputs": [],
   "source": []
  }
 ],
 "metadata": {
  "kernelspec": {
   "display_name": "Python 3 (ipykernel)",
   "language": "python",
   "name": "python3"
  },
  "language_info": {
   "codemirror_mode": {
    "name": "ipython",
    "version": 3
   },
   "file_extension": ".py",
   "mimetype": "text/x-python",
   "name": "python",
   "nbconvert_exporter": "python",
   "pygments_lexer": "ipython3",
   "version": "3.11.4"
  }
 },
 "nbformat": 4,
 "nbformat_minor": 5
}
