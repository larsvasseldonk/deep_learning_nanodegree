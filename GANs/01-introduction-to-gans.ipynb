{
 "cells": [
  {
   "cell_type": "markdown",
   "id": "f85c1388-b7cd-4c76-962d-1bb1482ff6e9",
   "metadata": {},
   "source": [
    "# Generative Adversial Networks (GANs)\n",
    "\n",
    "Applications of GANs include:\n",
    "- Image generation\n",
    "- Image to image translation\n",
    "- \"Deep fakes\"\n",
    "\n",
    "In simple words: **A GAN is a deep learning model tasked with replicating a real distribution of data.**\n",
    "\n",
    "With GANs we use computer-generated data with the goal of mimicking real data as closely as possible so that telling the difference between \"real\" and \"fake\" data becomes especially difficult.\n",
    "\n",
    "GANs are being used to create digital art, gaming imagery, and pharmaceutical simulations."
   ]
  },
  {
   "cell_type": "code",
   "execution_count": null,
   "id": "71057ecb-6b85-4ca1-8d4a-d11eeb07e077",
   "metadata": {},
   "outputs": [],
   "source": []
  }
 ],
 "metadata": {
  "kernelspec": {
   "display_name": "Python 3 (ipykernel)",
   "language": "python",
   "name": "python3"
  },
  "language_info": {
   "codemirror_mode": {
    "name": "ipython",
    "version": 3
   },
   "file_extension": ".py",
   "mimetype": "text/x-python",
   "name": "python",
   "nbconvert_exporter": "python",
   "pygments_lexer": "ipython3",
   "version": "3.11.4"
  }
 },
 "nbformat": 4,
 "nbformat_minor": 5
}
