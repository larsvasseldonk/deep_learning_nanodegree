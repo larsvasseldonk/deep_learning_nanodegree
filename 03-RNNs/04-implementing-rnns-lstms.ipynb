{
 "cells": [
  {
   "cell_type": "markdown",
   "id": "1200bf91-e3f3-4ac9-a3b9-918679c3b057",
   "metadata": {},
   "source": [
    "# Implementing RNNs and LSTMs\n",
    "\n",
    "In this lesson, we will cover the following topics:\n",
    "- Introduction to Implementing RNNs\n",
    "- Training and Memory\n",
    "- Character-wise RNNs\n",
    "\n",
    "By the end of the lesson, you'll be able to:\n",
    "- Train a simple RNN to do regression\n",
    "- Implement a Char RNN"
   ]
  },
  {
   "cell_type": "markdown",
   "id": "0aa0615f-9df6-48a0-a529-b2a1854a3aa2",
   "metadata": {},
   "source": [
    "## Implementing RNNs\n",
    "\n",
    "RNNs are very useful for sequence-based tasks. The challenges for implementing RNNs are two-fold.\n",
    "- How do we **pre-process sequential data** for our network\n",
    "- How do we **represent memory** in our code"
   ]
  },
  {
   "cell_type": "markdown",
   "id": "dda81533-3f6d-4c8f-a6c5-3642e775468b",
   "metadata": {},
   "source": [
    "## Character-wise RNNs\n",
    "The Character-wise RNN performs a prediction based on each input character from the input vector. After each N prediction is made, the RNN recycles the prediction to predict the N+1 output. The Character-wise RNN will be our first example. However, we will see these principles repeated in subsequent networks."
   ]
  },
  {
   "cell_type": "markdown",
   "id": "89955482-2dbb-4936-b1cb-81db9b8f70ef",
   "metadata": {},
   "source": [
    "## Sequence Batching\n",
    "In sequence batching, we take a sequence (such as a sentence) and divide the sequence into mini-sequences of a defined length. Then, we pass the network's hidden state forward to the next iteration. Batching helps increase training efficiency by allowing us to train on multiple sequences simultaneously.\n",
    "\n",
    "**Batching increases the speed of training, passes the hidden state, and splits a data set into defined numerical set of samples!**"
   ]
  },
  {
   "cell_type": "markdown",
   "id": "0d434961-43da-4810-a29c-cb016f03dc58",
   "metadata": {},
   "source": [
    "## Exercise: building an LSTM model for text prediction\n",
    "\n",
    "Here are the hyperparameters for an LSTM network.\n",
    "\n",
    "In defining the model:\n",
    "* `n_hidden` - The number of units in the hidden layers.\n",
    "* `n_layers` - Number of hidden LSTM layers to use.\n",
    "\n",
    "We assume that dropout probability and learning rate will be kept at the default, in this example.\n",
    "\n",
    "And in training:\n",
    "* `batch_size` - Number of sequences running through the network in one pass.\n",
    "* `seq_length` - Number of characters in the sequence the network is trained on. Larger is better typically, the network will learn more long range dependencies. But it takes longer to train. 100 is typically a good number here.\n",
    "* `lr` - Learning rate for training\n",
    "\n",
    "Here's some good advice from Andrej Karpathy on training the network. I'm going to copy it in here for your benefit, but also link to [where it originally came from](https://github.com/karpathy/char-rnn#tips-and-tricks).\n",
    "\n",
    "> ## Tips and Tricks\n",
    "\n",
    ">### Monitoring Validation Loss vs. Training Loss\n",
    ">If you're somewhat new to Machine Learning or Neural Networks it can take a bit of expertise to get good models. The most important quantity to keep track of is the difference between your training loss (printed during training) and the validation loss (printed once in a while when the RNN is run on the validation data (by default every 1000 iterations)). In particular:\n",
    "\n",
    "> - If your training loss is much lower than validation loss then this means the network might be **overfitting**. Solutions to this are to decrease your network size, or to increase dropout. For example you could try dropout of 0.5 and so on.\n",
    "> - If your training/validation loss are about equal then your model is **underfitting**. Increase the size of your model (either number of layers or the raw number of neurons per layer)\n",
    "\n",
    "> ### Approximate number of parameters\n",
    "\n",
    "> The two most important parameters that control the model are `n_hidden` and `n_layers`. I would advise that you always use `n_layers` of either 2/3. The `n_hidden` can be adjusted based on how much data you have. The two important quantities to keep track of here are:\n",
    "\n",
    "> - The number of parameters in your model. This is printed when you start training.\n",
    "> - The size of your dataset. 1MB file is approximately 1 million characters.\n",
    "\n",
    ">These two should be about the same order of magnitude. It's a little tricky to tell. Here are some examples:\n",
    "\n",
    "> - I have a 100MB dataset and I'm using the default parameter settings (which currently print 150K parameters). My data size is significantly larger (100 mil >> 0.15 mil), so I expect to heavily underfit. I am thinking I can comfortably afford to make `n_hidden` larger.\n",
    "> - I have a 10MB dataset and running a 10 million parameter model. I'm slightly nervous and I'm carefully monitoring my validation loss. If it's larger than my training loss then I may want to try to increase dropout a bit and see if that helps the validation loss.\n",
    "\n",
    "> ### Best models strategy\n",
    "\n",
    ">The winning strategy to obtaining very good models (if you have the compute time) is to always err on making the network larger (as large as you're willing to wait for it to compute) and then try different dropout values (between 0,1). Whatever model has the best validation performance (the loss, written in the checkpoint filename, low is good) is the one you should use in the end.\n",
    "\n",
    ">It is very common in deep learning to run many different models with many different hyperparameter settings, and in the end take whatever checkpoint gave the best validation performance.\n",
    "\n",
    ">By the way, the size of your training and validation splits are also parameters. Make sure you have a decent amount of data in your validation set or otherwise the validation performance will be noisy and not very informative."
   ]
  },
  {
   "cell_type": "code",
   "execution_count": null,
   "id": "3cdb615b-6381-409e-9e7b-ae1b0077e82a",
   "metadata": {},
   "outputs": [],
   "source": []
  }
 ],
 "metadata": {
  "kernelspec": {
   "display_name": "Python 3 (ipykernel)",
   "language": "python",
   "name": "python3"
  },
  "language_info": {
   "codemirror_mode": {
    "name": "ipython",
    "version": 3
   },
   "file_extension": ".py",
   "mimetype": "text/x-python",
   "name": "python",
   "nbconvert_exporter": "python",
   "pygments_lexer": "ipython3",
   "version": "3.11.4"
  }
 },
 "nbformat": 4,
 "nbformat_minor": 5
}
