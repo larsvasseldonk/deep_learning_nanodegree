{
 "cells": [
  {
   "cell_type": "markdown",
   "metadata": {
    "editable": true
   },
   "source": [
    "# Compare Prediction to Regression\n",
    "\n",
    "## Introduction\n",
    "\n",
    "Now that you have made predictions with your LSTM network, we're going to compare it against a standard linear regression to evaluate the improvement.\n",
    "\n",
    "## Instructions\n",
    "\n",
    "1. Split the data into train and test sets\n",
    "2. Train a standard linear regression model on the data\n",
    "4. Evaluate the predictions of the models against the test set using MSE\n",
    "5. Compare those predictions against the LSTM using the same metrics.\n"
   ]
  },
  {
   "cell_type": "markdown",
   "metadata": {
    "editable": true
   },
   "source": [
    "## Example Code"
   ]
  },
  {
   "cell_type": "code",
   "execution_count": null,
   "metadata": {
    "editable": true
   },
   "outputs": [],
   "source": [
    "import sklearn.linear_model.LinearRegression as LinearRegression\n",
    "\n",
    "model = LinearRegression()"
   ]
  }
 ],
 "metadata": {
  "kernelspec": {
   "display_name": "Python 3 (ipykernel)",
   "language": "python",
   "name": "python3"
  },
  "language_info": {
   "codemirror_mode": {
    "name": "ipython",
    "version": 3
   },
   "file_extension": ".py",
   "mimetype": "text/x-python",
   "name": "python",
   "nbconvert_exporter": "python",
   "pygments_lexer": "ipython3",
   "version": "3.11.4"
  },
  "ulab_nb_type": "guided"
 },
 "nbformat": 4,
 "nbformat_minor": 4
}
